{
 "cells": [
  {
   "cell_type": "markdown",
   "metadata": {},
   "source": [
    "<div dir=rtl>\n",
    "نام و نام‌خانوادگی: مهدی سلمانی صالح‌آیادی \n",
    "    <br/>\n",
    "    شماره دانشجویی: 98105824\n",
    "</div>"
   ]
  },
  {
   "cell_type": "markdown",
   "metadata": {},
   "source": [
    "<div dir=\"rtl\">\n",
    "    <h3>\n",
    "        بخش اول: بررسی داده‌ها و رسم نمودار و جداسازی\n",
    "    </h3>\n",
    "</div>"
   ]
  },
  {
   "cell_type": "code",
   "execution_count": 1,
   "metadata": {
    "id": "8LLusLPYn5K8"
   },
   "outputs": [],
   "source": [
    "import pandas as pd\n",
    "import numpy as np\n",
    "import seaborn as sns\n",
    "import matplotlib.pyplot as plt\n",
    "sns.set()\n",
    "plt.style.use(\"ggplot\")\n",
    "\n",
    "import warnings                                            \n",
    "warnings.filterwarnings('ignore')"
   ]
  },
  {
   "cell_type": "code",
   "execution_count": 2,
   "metadata": {
    "id": "ZuqWLQYkoL1w"
   },
   "outputs": [],
   "source": [
    "df = pd.read_csv('data.csv')"
   ]
  },
  {
   "cell_type": "code",
   "execution_count": 3,
   "metadata": {
    "colab": {
     "base_uri": "https://localhost:8080/",
     "height": 204
    },
    "id": "okClDy9IoRLZ",
    "outputId": "5c2e5144-3d2a-4e03-f9c6-737c124249df"
   },
   "outputs": [
    {
     "data": {
      "text/html": [
       "<div>\n",
       "<style scoped>\n",
       "    .dataframe tbody tr th:only-of-type {\n",
       "        vertical-align: middle;\n",
       "    }\n",
       "\n",
       "    .dataframe tbody tr th {\n",
       "        vertical-align: top;\n",
       "    }\n",
       "\n",
       "    .dataframe thead th {\n",
       "        text-align: right;\n",
       "    }\n",
       "</style>\n",
       "<table border=\"1\" class=\"dataframe\">\n",
       "  <thead>\n",
       "    <tr style=\"text-align: right;\">\n",
       "      <th></th>\n",
       "      <th>Unnamed: 0</th>\n",
       "      <th>X1</th>\n",
       "      <th>X2</th>\n",
       "      <th>Y</th>\n",
       "    </tr>\n",
       "  </thead>\n",
       "  <tbody>\n",
       "    <tr>\n",
       "      <th>0</th>\n",
       "      <td>0</td>\n",
       "      <td>0.004291</td>\n",
       "      <td>-0.174600</td>\n",
       "      <td>-1</td>\n",
       "    </tr>\n",
       "    <tr>\n",
       "      <th>1</th>\n",
       "      <td>1</td>\n",
       "      <td>2.225050</td>\n",
       "      <td>0.117181</td>\n",
       "      <td>1</td>\n",
       "    </tr>\n",
       "    <tr>\n",
       "      <th>2</th>\n",
       "      <td>2</td>\n",
       "      <td>0.274173</td>\n",
       "      <td>-0.514910</td>\n",
       "      <td>-1</td>\n",
       "    </tr>\n",
       "    <tr>\n",
       "      <th>3</th>\n",
       "      <td>3</td>\n",
       "      <td>-1.045133</td>\n",
       "      <td>-0.798009</td>\n",
       "      <td>1</td>\n",
       "    </tr>\n",
       "    <tr>\n",
       "      <th>4</th>\n",
       "      <td>4</td>\n",
       "      <td>1.611457</td>\n",
       "      <td>0.239339</td>\n",
       "      <td>1</td>\n",
       "    </tr>\n",
       "  </tbody>\n",
       "</table>\n",
       "</div>"
      ],
      "text/plain": [
       "   Unnamed: 0        X1        X2  Y\n",
       "0           0  0.004291 -0.174600 -1\n",
       "1           1  2.225050  0.117181  1\n",
       "2           2  0.274173 -0.514910 -1\n",
       "3           3 -1.045133 -0.798009  1\n",
       "4           4  1.611457  0.239339  1"
      ]
     },
     "execution_count": 3,
     "metadata": {},
     "output_type": "execute_result"
    }
   ],
   "source": [
    "df.head()"
   ]
  },
  {
   "cell_type": "markdown",
   "metadata": {},
   "source": [
    "<div dir=\"rtl\">\n",
    "        در قسمت زیر بررسی کردم که داده nan نداشته باشیم.\n",
    "        با بررسی انجام شده می‌توان فهمید که داده nan نداریم.\n",
    "</div>"
   ]
  },
  {
   "cell_type": "code",
   "execution_count": 4,
   "metadata": {
    "colab": {
     "base_uri": "https://localhost:8080/"
    },
    "id": "JNkH3AVgoU2D",
    "outputId": "5e69a39d-3f84-4a45-da31-129b9b743a2b"
   },
   "outputs": [
    {
     "name": "stdout",
     "output_type": "stream",
     "text": [
      "number of nans in each column: \n",
      "Unnamed: 0    0\n",
      "X1            0\n",
      "X2            0\n",
      "Y             0\n",
      "dtype: int64\n",
      "percentage of nans in each column: \n",
      "Unnamed: 0    0.0\n",
      "X1            0.0\n",
      "X2            0.0\n",
      "Y             0.0\n",
      "dtype: float64\n"
     ]
    }
   ],
   "source": [
    "count = df.isna().sum()\n",
    "percentage = count / len(df) * 100\n",
    "print('number of nans in each column: ')\n",
    "print(count)\n",
    "print('percentage of nans in each column: ')\n",
    "print(percentage)"
   ]
  },
  {
   "cell_type": "code",
   "execution_count": 5,
   "metadata": {
    "colab": {
     "base_uri": "https://localhost:8080/",
     "height": 297
    },
    "id": "3xJ-rdFDodOK",
    "outputId": "b3fcacbd-8f92-490a-bb33-7c6a249e5f58"
   },
   "outputs": [
    {
     "data": {
      "text/html": [
       "<div>\n",
       "<style scoped>\n",
       "    .dataframe tbody tr th:only-of-type {\n",
       "        vertical-align: middle;\n",
       "    }\n",
       "\n",
       "    .dataframe tbody tr th {\n",
       "        vertical-align: top;\n",
       "    }\n",
       "\n",
       "    .dataframe thead th {\n",
       "        text-align: right;\n",
       "    }\n",
       "</style>\n",
       "<table border=\"1\" class=\"dataframe\">\n",
       "  <thead>\n",
       "    <tr style=\"text-align: right;\">\n",
       "      <th></th>\n",
       "      <th>Unnamed: 0</th>\n",
       "      <th>X1</th>\n",
       "      <th>X2</th>\n",
       "      <th>Y</th>\n",
       "    </tr>\n",
       "  </thead>\n",
       "  <tbody>\n",
       "    <tr>\n",
       "      <th>count</th>\n",
       "      <td>200.000000</td>\n",
       "      <td>200.000000</td>\n",
       "      <td>200.000000</td>\n",
       "      <td>200.000000</td>\n",
       "    </tr>\n",
       "    <tr>\n",
       "      <th>mean</th>\n",
       "      <td>99.500000</td>\n",
       "      <td>0.134422</td>\n",
       "      <td>-0.032272</td>\n",
       "      <td>0.000000</td>\n",
       "    </tr>\n",
       "    <tr>\n",
       "      <th>std</th>\n",
       "      <td>57.879185</td>\n",
       "      <td>0.963356</td>\n",
       "      <td>0.936228</td>\n",
       "      <td>1.002509</td>\n",
       "    </tr>\n",
       "    <tr>\n",
       "      <th>min</th>\n",
       "      <td>0.000000</td>\n",
       "      <td>-2.295103</td>\n",
       "      <td>-2.979597</td>\n",
       "      <td>-1.000000</td>\n",
       "    </tr>\n",
       "    <tr>\n",
       "      <th>25%</th>\n",
       "      <td>49.750000</td>\n",
       "      <td>-0.565908</td>\n",
       "      <td>-0.541366</td>\n",
       "      <td>-1.000000</td>\n",
       "    </tr>\n",
       "    <tr>\n",
       "      <th>50%</th>\n",
       "      <td>99.500000</td>\n",
       "      <td>0.176662</td>\n",
       "      <td>0.028769</td>\n",
       "      <td>0.000000</td>\n",
       "    </tr>\n",
       "    <tr>\n",
       "      <th>75%</th>\n",
       "      <td>149.250000</td>\n",
       "      <td>0.802764</td>\n",
       "      <td>0.570275</td>\n",
       "      <td>1.000000</td>\n",
       "    </tr>\n",
       "    <tr>\n",
       "      <th>max</th>\n",
       "      <td>199.000000</td>\n",
       "      <td>2.679910</td>\n",
       "      <td>2.467651</td>\n",
       "      <td>1.000000</td>\n",
       "    </tr>\n",
       "  </tbody>\n",
       "</table>\n",
       "</div>"
      ],
      "text/plain": [
       "       Unnamed: 0          X1          X2           Y\n",
       "count  200.000000  200.000000  200.000000  200.000000\n",
       "mean    99.500000    0.134422   -0.032272    0.000000\n",
       "std     57.879185    0.963356    0.936228    1.002509\n",
       "min      0.000000   -2.295103   -2.979597   -1.000000\n",
       "25%     49.750000   -0.565908   -0.541366   -1.000000\n",
       "50%     99.500000    0.176662    0.028769    0.000000\n",
       "75%    149.250000    0.802764    0.570275    1.000000\n",
       "max    199.000000    2.679910    2.467651    1.000000"
      ]
     },
     "execution_count": 5,
     "metadata": {},
     "output_type": "execute_result"
    }
   ],
   "source": [
    "df.describe()"
   ]
  },
  {
   "cell_type": "markdown",
   "metadata": {},
   "source": [
    "<div dir=\"rtl\">\n",
    "       در قسمت زیر همانطور که می‌بینید داده‌ها خطی تفکیک‌پذیر نیستند.\n",
    "</div>"
   ]
  },
  {
   "cell_type": "code",
   "execution_count": 6,
   "metadata": {
    "colab": {
     "base_uri": "https://localhost:8080/",
     "height": 285
    },
    "id": "z857UbvQogsP",
    "outputId": "ad7af5f4-1e49-4c6d-b847-778921f2cbfa"
   },
   "outputs": [
    {
     "data": {
      "image/png": "[encoded data removed]",
      "text/plain": [
       "<Figure size 432x288 with 1 Axes>"
      ]
     },
     "metadata": {},
     "output_type": "display_data"
    }
   ],
   "source": [
    "sns.scatterplot(df['X1'], df['X2'], hue=df['Y'], palette=\"pastel\");"
   ]
  },
  {
   "cell_type": "markdown",
   "metadata": {},
   "source": [
    "<div dir=\"rtl\">\n",
    "    دقت کنید که چون تعداد داده‌ها کم است،\n",
    "    در اینجا داده‌های تست و آموزش را به نسبت 30 70 تقسیم کرده‌ام تا نتیجه تست قابل اتکا تر باشد.\n",
    "</div>"
   ]
  },
  {
   "cell_type": "code",
   "execution_count": 7,
   "metadata": {
    "colab": {
     "base_uri": "https://localhost:8080/"
    },
    "id": "z03BsOd4rDQh",
    "outputId": "5455d4b1-cceb-45ee-e775-769e3a504aac"
   },
   "outputs": [
    {
     "data": {
      "text/plain": [
       "140"
      ]
     },
     "execution_count": 7,
     "metadata": {},
     "output_type": "execute_result"
    }
   ],
   "source": [
    "train = df.sample(frac=0.7, random_state=0)\n",
    "test = df.drop(train.index)\n",
    "len(train)"
   ]
  },
  {
   "cell_type": "code",
   "execution_count": 8,
   "metadata": {
    "id": "Q9NEzMiUrFy5"
   },
   "outputs": [],
   "source": [
    "y_train, y_test = train['Y'], test['Y']\n",
    "X_train, X_test = train.drop('Y', axis=1), test.drop('Y', axis=1)"
   ]
  },
  {
   "cell_type": "markdown",
   "metadata": {},
   "source": [
    "<div dir=\"rtl\">\n",
    "    <h3>\n",
    "        بخش دوم:\n",
    "        Adaboost\n",
    "    </h3>\n",
    "</div>"
   ]
  },
  {
   "cell_type": "code",
   "execution_count": 9,
   "metadata": {
    "id": "042cGLY1rUQK"
   },
   "outputs": [],
   "source": [
    "from sklearn.tree import DecisionTreeClassifier "
   ]
  },
  {
   "cell_type": "markdown",
   "metadata": {},
   "source": [
    "<div dir=\"rtl\">\n",
    "    برای H\n",
    "    از \n",
    "    DecisionTree\n",
    "    با عمق یک استفاده کردم.\n",
    "    دقت کنید در Adaboost\n",
    "    گفتیم تابع دسته بند باید ساده باشد و بایاس زیادی داشته‌باشد برای همین درخت با عمق یک را انتخاب کردم.\n",
    "</div>"
   ]
  },
  {
   "cell_type": "code",
   "execution_count": 10,
   "metadata": {
    "id": "MbTpCUJ_rj33"
   },
   "outputs": [],
   "source": [
    "def calculate_epsilon(prediction, y, w):\n",
    "    return w[y != prediction].sum() / w.sum()\n",
    "\n",
    "def ADABOOST(X, y, step):\n",
    "    w = np.full(len(X), 1 / len(X))\n",
    "    alphas = []\n",
    "    trees = []\n",
    "    for i in range(step):\n",
    "        tree = DecisionTreeClassifier(max_depth=1, random_state=0)\n",
    "        tree.fit(X, y, sample_weight=w)\n",
    "        prediction = tree.predict(X)\n",
    "        epsilon = calculate_epsilon(prediction, y, w)\n",
    "        alpha = 0.5 * np.log((1 - epsilon) / epsilon)\n",
    "        normalization_factor = 2 * np.sqrt(epsilon * (1 - epsilon))\n",
    "        w = w * np.exp(-alpha * (y * prediction)) / normalization_factor\n",
    "        trees.append(tree)\n",
    "        alphas.append(alpha)\n",
    "    return trees, alphas"
   ]
  },
  {
   "cell_type": "markdown",
   "metadata": {},
   "source": [
    "<div dir=\"rtl\">\n",
    "    در تابع زیر \n",
    "    بخش مربوط به \n",
    "    prediction\n",
    "    با توجه به وزن هر درخت انجام می‌شود.\n",
    "</div>"
   ]
  },
  {
   "cell_type": "code",
   "execution_count": 11,
   "metadata": {
    "id": "r-oowzBdvfeq"
   },
   "outputs": [],
   "source": [
    "def prediciton_ADABOOST(X, alphas, trees, step):\n",
    "    y = np.zeros(len(X))\n",
    "    for i in range(step):\n",
    "        y += trees[i].predict(X) * alphas[i]\n",
    "  \n",
    "    return np.where(y > 0, 1, -1)"
   ]
  },
  {
   "cell_type": "markdown",
   "metadata": {},
   "source": [
    "<div dir=\"rtl\">\n",
    "   در این قسمت تعیین کردم که 30 درخت ساخته شود.\n",
    "    در ادامه ضریب مربوط به هر درخت چاپ شده‌است.\n",
    "</div>"
   ]
  },
  {
   "cell_type": "code",
   "execution_count": 12,
   "metadata": {
    "id": "Edbu7WHXvODj"
   },
   "outputs": [
    {
     "name": "stdout",
     "output_type": "stream",
     "text": [
      "alphas :  [0.3573266928904548, 0.2610946912081534, 0.33145008377892976, 0.24724026738273583, 0.35779835783944913, 0.2494822955951891, 0.38040975560012397, 0.2603105361885072, 0.37219212389626033, 0.2566883783559921, 0.3231966310064663, 0.24268895950539057, 0.2960598782320418, 0.22725634124021743, 0.2787961984654715, 0.21705256567059322, 0.25943514825723235, 0.2052376891027455, 0.2687447747185123, 0.2109686533247362, 0.30587449221425816, 0.21384255926345028, 0.32429187844376184, 0.28965836326919925, 0.34727420713849777, 0.24985852286471785, 0.1992441917579927, 0.2573291560555724, 0.20392826330240105, 0.24162107962742405]\n"
     ]
    }
   ],
   "source": [
    "step = 30\n",
    "trees, alphas = ADABOOST(X_train, y_train, step)\n",
    "print('alphas : ', alphas)"
   ]
  },
  {
   "cell_type": "code",
   "execution_count": 13,
   "metadata": {
    "id": "hVjK9eZCvZQl"
   },
   "outputs": [],
   "source": [
    "prediction = prediciton_ADABOOST(X_test, alphas, trees, step)"
   ]
  },
  {
   "cell_type": "markdown",
   "metadata": {},
   "source": [
    "<div dir=\"rtl\">\n",
    "    <h3>\n",
    "        بخش سوم: محاسبه accuracy\n",
    "    </h3>\n",
    "</div>"
   ]
  },
  {
   "cell_type": "code",
   "execution_count": 14,
   "metadata": {
    "colab": {
     "base_uri": "https://localhost:8080/"
    },
    "id": "9Tgjcyt_wlVw",
    "outputId": "51c0cbdc-1103-478c-b13a-aa8539b748fc"
   },
   "outputs": [
    {
     "name": "stdout",
     "output_type": "stream",
     "text": [
      "accuracy:  0.9333333333333333\n"
     ]
    }
   ],
   "source": [
    "true_labeled = (prediction == y_test)\n",
    "print('accuracy: ', true_labeled.sum() / len(prediction))"
   ]
  }
 ],
 "metadata": {
  "colab": {
   "collapsed_sections": [],
   "name": "ADABOOST.ipynb",
   "provenance": []
  },
  "kernelspec": {
   "display_name": "Python 3",
   "language": "python",
   "name": "python3"
  },
  "language_info": {
   "codemirror_mode": {
    "name": "ipython",
    "version": 3
   },
   "file_extension": ".py",
   "mimetype": "text/x-python",
   "name": "python",
   "nbconvert_exporter": "python",
   "pygments_lexer": "ipython3",
   "version": "3.8.8"
  }
 },
 "nbformat": 4,
 "nbformat_minor": 1
}
